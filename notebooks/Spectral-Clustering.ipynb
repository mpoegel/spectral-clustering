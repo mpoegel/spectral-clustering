{
 "cells": [
  {
   "cell_type": "markdown",
   "metadata": {},
   "source": [
    "# Spectral Clustering"
   ]
  },
  {
   "cell_type": "code",
   "execution_count": 2,
   "metadata": {
    "collapsed": true
   },
   "outputs": [],
   "source": [
    "from itertools import permutations\n",
    "import numpy as np\n",
    "import scipy as sp\n",
    "import scipy.sparse.linalg\n",
    "import scipy.cluster.vq"
   ]
  },
  {
   "cell_type": "code",
   "execution_count": 3,
   "metadata": {
    "collapsed": false
   },
   "outputs": [],
   "source": [
    "A = np.loadtxt('../data/processed/usps.csv', delimiter=',')"
   ]
  },
  {
   "cell_type": "code",
   "execution_count": 101,
   "metadata": {
    "collapsed": false
   },
   "outputs": [],
   "source": [
    "inds = A[:, -1] < 6\n",
    "X = A[inds, :-2]\n",
    "Y = A[inds, -1].astype(int)"
   ]
  },
  {
   "cell_type": "code",
   "execution_count": 102,
   "metadata": {
    "collapsed": false
   },
   "outputs": [
    {
     "data": {
      "text/plain": [
       "(4240, 254)"
      ]
     },
     "execution_count": 102,
     "metadata": {},
     "output_type": "execute_result"
    }
   ],
   "source": [
    "k = len(np.unique(Y))\n",
    "n, d = X.shape\n",
    "n, d"
   ]
  },
  {
   "cell_type": "code",
   "execution_count": 103,
   "metadata": {
    "collapsed": true
   },
   "outputs": [],
   "source": [
    "mu = 0\n",
    "for i in range(n):\n",
    "    for j in range(n):\n",
    "        mu += np.linalg.norm(X[i] - X[j]) ** 2\n",
    "mu /= (n ** 2)\n",
    "mu = 1 / mu"
   ]
  },
  {
   "cell_type": "code",
   "execution_count": 104,
   "metadata": {
    "collapsed": false
   },
   "outputs": [],
   "source": [
    "W = np.empty((n, n))\n",
    "for i in range(n):\n",
    "    for j in range(i,n):\n",
    "        val = np.e ** (-mu * np.linalg.norm(X[i] - X[j]) ** 2)\n",
    "        W[i, j] = val\n",
    "        W[j, i] = val"
   ]
  },
  {
   "cell_type": "code",
   "execution_count": 105,
   "metadata": {
    "collapsed": false
   },
   "outputs": [],
   "source": [
    "ww = W.sum(axis=0)\n",
    "D = np.diag(ww)\n",
    "D_ = np.diag(1 / np.sqrt(ww))\n",
    "L = np.identity(n) - D_.dot(W).dot(D_)"
   ]
  },
  {
   "cell_type": "code",
   "execution_count": 112,
   "metadata": {
    "collapsed": false
   },
   "outputs": [],
   "source": [
    "V, Z = sp.linalg.eigh(L, eigvals=(0, k))"
   ]
  },
  {
   "cell_type": "code",
   "execution_count": 113,
   "metadata": {
    "collapsed": false
   },
   "outputs": [],
   "source": [
    "Z_ = sp.cluster.vq.whiten(Z)\n",
    "centroids, distortion = sp.cluster.vq.kmeans(Z_, k)"
   ]
  },
  {
   "cell_type": "code",
   "execution_count": 114,
   "metadata": {
    "collapsed": false
   },
   "outputs": [
    {
     "data": {
      "text/plain": [
       "(array([[-10.45134293,  -0.21695769,   0.84091388,   0.77027301,\n",
       "          -1.40197231,  -0.10260371],\n",
       "        [-11.50246835,  -1.23630465,  -0.86321964,  -0.30219783,\n",
       "           0.12554126,  -0.15860273],\n",
       "        [ -9.081826  ,   1.55943018,  -1.38024109,   0.40384435,\n",
       "          -0.19201859,   0.15687877],\n",
       "        [ -9.94601123,   0.17976618,   0.61511397,  -0.26675593,\n",
       "           0.20957478,   2.0628695 ],\n",
       "        [-10.58665069,   0.56090408,   0.68268302,  -0.28238634,\n",
       "           0.67397283,  -0.67570837]]), 1.3841207685089576)"
      ]
     },
     "execution_count": 114,
     "metadata": {},
     "output_type": "execute_result"
    }
   ],
   "source": [
    "centroids, distortion"
   ]
  },
  {
   "cell_type": "code",
   "execution_count": 109,
   "metadata": {
    "collapsed": false
   },
   "outputs": [],
   "source": [
    "y_hat = np.zeros(n, dtype=int)\n",
    "for i in range(n):\n",
    "    dists = np.array([np.linalg.norm(Z_[i] - centroids[c]) for c in range(k)])\n",
    "    y_hat[i] = np.argmin(dists)"
   ]
  },
  {
   "cell_type": "code",
   "execution_count": 110,
   "metadata": {
    "collapsed": true
   },
   "outputs": [],
   "source": [
    "perms = []\n",
    "for p in permutations(np.arange(1, k+1)):\n",
    "    P = dict()\n",
    "    for i in range(k):\n",
    "        P[i] = p[i]\n",
    "    perms.append(P)"
   ]
  },
  {
   "cell_type": "code",
   "execution_count": 111,
   "metadata": {
    "collapsed": false
   },
   "outputs": [
    {
     "data": {
      "text/plain": [
       "79.787735849056602"
      ]
     },
     "execution_count": 111,
     "metadata": {},
     "output_type": "execute_result"
    }
   ],
   "source": [
    "accuracy = np.zeros(len(perms))\n",
    "for i in range(len(perms)):\n",
    "    yy = y_hat.copy()\n",
    "    for key, val in perms[i].items():\n",
    "        yy[y_hat == key] = val\n",
    "    accuracy[i] = (Y == yy).sum() / n * 100\n",
    "accuracy.max()"
   ]
  },
  {
   "cell_type": "code",
   "execution_count": null,
   "metadata": {
    "collapsed": true
   },
   "outputs": [],
   "source": []
  }
 ],
 "metadata": {
  "kernelspec": {
   "display_name": "Python 3",
   "language": "python",
   "name": "python3"
  },
  "language_info": {
   "codemirror_mode": {
    "name": "ipython",
    "version": 3
   },
   "file_extension": ".py",
   "mimetype": "text/x-python",
   "name": "python",
   "nbconvert_exporter": "python",
   "pygments_lexer": "ipython3",
   "version": "3.6.0"
  }
 },
 "nbformat": 4,
 "nbformat_minor": 2
}
