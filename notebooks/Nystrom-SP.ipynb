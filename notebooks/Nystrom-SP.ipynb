{
 "cells": [
  {
   "cell_type": "markdown",
   "metadata": {},
   "source": [
    "# Standard Nystrom-based Spectral Clustering"
   ]
  },
  {
   "cell_type": "markdown",
   "metadata": {},
   "source": [
    "This algorithm is from \"[Fast Spectral Clustering via the Nystrom Method](http://www.cs.columbia.edu/~jebara/papers/ALT2013FSCVTNM.pdf)\" by Choromanska et el."
   ]
  },
  {
   "cell_type": "code",
   "execution_count": 6,
   "metadata": {
    "collapsed": true
   },
   "outputs": [],
   "source": [
    "from itertools import permutations\n",
    "import numpy as np\n",
    "import scipy as sp\n",
    "import scipy.sparse.linalg\n",
    "import scipy.cluster.vq"
   ]
  },
  {
   "cell_type": "code",
   "execution_count": 607,
   "metadata": {
    "collapsed": true
   },
   "outputs": [],
   "source": [
    "A = np.loadtxt('../data/processed/usps.csv', delimiter=',')"
   ]
  },
  {
   "cell_type": "code",
   "execution_count": 712,
   "metadata": {
    "collapsed": false
   },
   "outputs": [
    {
     "data": {
      "text/plain": [
       "(2199, 254)"
      ]
     },
     "execution_count": 712,
     "metadata": {},
     "output_type": "execute_result"
    }
   ],
   "source": [
    "# np.random.shuffle(A)\n",
    "inds = A[:, -1] < 3\n",
    "X = A[inds, :-2]\n",
    "Y = A[inds, -1].astype(int)\n",
    "k = len(np.unique(Y))\n",
    "n, d = X.shape\n",
    "n, d"
   ]
  },
  {
   "cell_type": "code",
   "execution_count": 766,
   "metadata": {
    "collapsed": false
   },
   "outputs": [],
   "source": [
    "m = 500\n",
    "# inds = np.random.choice(n, m, replace=False)\n",
    "inds = np.arange(m)\n",
    "inv_inds = np.array([a for a in range(n) if a not in inds])"
   ]
  },
  {
   "cell_type": "code",
   "execution_count": 767,
   "metadata": {
    "collapsed": true
   },
   "outputs": [],
   "source": [
    "A_11 = np.empty((m,m))\n",
    "for i in range(m):\n",
    "    for j in range(i, m):\n",
    "        val = np.e ** (-1 * np.linalg.norm(X[inds[i]] - X[inds[j]]) ** 2)\n",
    "        A_11[i, j] = val\n",
    "        A_11[j, i] = val"
   ]
  },
  {
   "cell_type": "code",
   "execution_count": 768,
   "metadata": {
    "collapsed": false
   },
   "outputs": [],
   "source": [
    "C = np.empty((n-m, m))\n",
    "for i in range(n-m):\n",
    "    for j in range(m):\n",
    "        val = np.e ** (-1 * np.linalg.norm(X[inv_inds[i]] - X[inds[j]]) ** 2)\n",
    "        C[i, j] = val\n",
    "C = np.vstack((A_11, C))"
   ]
  },
  {
   "cell_type": "code",
   "execution_count": 769,
   "metadata": {
    "collapsed": false
   },
   "outputs": [],
   "source": [
    "dd_hat = C.dot(np.linalg.inv(A_11)).dot(C.T).dot(np.ones(n))\n",
    "D_hat = np.diag(dd_hat)\n",
    "D_hat_inv = np.diag(1 / np.sqrt(dd_hat))\n",
    "\n",
    "D_n1 = np.diag(C.dot(np.ones(m)))\n",
    "D_11_inv = np.diag(1 / np.sqrt(A_11.dot(np.ones(m))))"
   ]
  },
  {
   "cell_type": "code",
   "execution_count": 770,
   "metadata": {
    "collapsed": false
   },
   "outputs": [],
   "source": [
    "M_hat_n1 = D_hat_inv.dot(C).dot(D_11_inv)"
   ]
  },
  {
   "cell_type": "code",
   "execution_count": 771,
   "metadata": {
    "collapsed": false
   },
   "outputs": [
    {
     "data": {
      "text/plain": [
       "(2199, 500)"
      ]
     },
     "execution_count": 771,
     "metadata": {},
     "output_type": "execute_result"
    }
   ],
   "source": [
    "M_hat_n1.shape"
   ]
  },
  {
   "cell_type": "code",
   "execution_count": 772,
   "metadata": {
    "collapsed": false
   },
   "outputs": [],
   "source": [
    "M_11 = M_hat_n1[inds, :]\n",
    "M_21 = M_hat_n1[inv_inds, :]\n",
    "\n",
    "V, U = np.linalg.eig(np.linalg.inv(M_11))\n",
    "# print(U)\n",
    "M_11_inv = U.dot(np.diag(np.sqrt(V))).dot(U.T)\n",
    "\n",
    "S = M_11 + M_11_inv.dot(M_21.T).dot(M_21).dot(M_11_inv)\n",
    "U, L, T = np.linalg.svd(S)\n",
    "\n",
    "V = M_hat_n1.dot(M_11_inv).dot(U).dot(np.diag(1 / np.sqrt(L)))"
   ]
  },
  {
   "cell_type": "code",
   "execution_count": 773,
   "metadata": {
    "collapsed": false
   },
   "outputs": [
    {
     "data": {
      "text/plain": [
       "(1699, 500)"
      ]
     },
     "execution_count": 773,
     "metadata": {},
     "output_type": "execute_result"
    }
   ],
   "source": [
    "M_21.shape"
   ]
  },
  {
   "cell_type": "code",
   "execution_count": 774,
   "metadata": {
    "collapsed": false
   },
   "outputs": [
    {
     "data": {
      "text/plain": [
       "(array([[-0.0356231 , -0.0024062 ],\n",
       "        [-0.00148436, -0.00097147]]), 0.013008144022991702)"
      ]
     },
     "execution_count": 774,
     "metadata": {},
     "output_type": "execute_result"
    }
   ],
   "source": [
    "Z = V[:, :k]\n",
    "centroids, distortion = sp.cluster.vq.kmeans(Z, k)\n",
    "centroids, distortion"
   ]
  },
  {
   "cell_type": "code",
   "execution_count": 775,
   "metadata": {
    "collapsed": false
   },
   "outputs": [
    {
     "data": {
      "text/plain": [
       "83.53797180536607"
      ]
     },
     "execution_count": 775,
     "metadata": {},
     "output_type": "execute_result"
    }
   ],
   "source": [
    "y_hat = np.zeros(n, dtype=int)\n",
    "for i in range(n):\n",
    "    dists = np.array([np.linalg.norm(Z[i] - c) for c in centroids])\n",
    "    y_hat[i] = np.argmin(dists)\n",
    "\n",
    "perms = []\n",
    "for p in permutations(np.arange(1, k+1)):\n",
    "    P = dict()\n",
    "    for i in range(k):\n",
    "        P[i] = p[i]\n",
    "    perms.append(P)\n",
    "\n",
    "accuracy = np.zeros(len(perms))\n",
    "for i in range(len(perms)):\n",
    "    yy = y_hat.copy()\n",
    "    for key, val in perms[i].items():\n",
    "        yy[y_hat == key] = val\n",
    "    accuracy[i] = (Y == yy).sum() / n * 100\n",
    "accuracy.max()"
   ]
  },
  {
   "cell_type": "code",
   "execution_count": 776,
   "metadata": {
    "collapsed": false
   },
   "outputs": [
    {
     "data": {
      "text/plain": [
       "array([   0, 1556,  643], dtype=int64)"
      ]
     },
     "execution_count": 776,
     "metadata": {},
     "output_type": "execute_result"
    }
   ],
   "source": [
    "np.bincount(yy)"
   ]
  },
  {
   "cell_type": "code",
   "execution_count": 765,
   "metadata": {
    "collapsed": false
   },
   "outputs": [
    {
     "data": {
      "text/plain": [
       "array([   0, 1194, 1005], dtype=int64)"
      ]
     },
     "execution_count": 765,
     "metadata": {},
     "output_type": "execute_result"
    }
   ],
   "source": [
    "np.bincount(Y)"
   ]
  },
  {
   "cell_type": "code",
   "execution_count": null,
   "metadata": {
    "collapsed": true
   },
   "outputs": [],
   "source": []
  }
 ],
 "metadata": {
  "kernelspec": {
   "display_name": "Python 3",
   "language": "python",
   "name": "python3"
  },
  "language_info": {
   "codemirror_mode": {
    "name": "ipython",
    "version": 3
   },
   "file_extension": ".py",
   "mimetype": "text/x-python",
   "name": "python",
   "nbconvert_exporter": "python",
   "pygments_lexer": "ipython3",
   "version": "3.6.0"
  }
 },
 "nbformat": 4,
 "nbformat_minor": 2
}
