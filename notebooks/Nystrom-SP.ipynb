{
 "cells": [
  {
   "cell_type": "markdown",
   "metadata": {},
   "source": [
    "# Standard Nystrom-based Spectral Clustering"
   ]
  },
  {
   "cell_type": "markdown",
   "metadata": {},
   "source": [
    "This algorithm is from \"[Fast Spectral Clustering via the Nystrom Method](http://www.cs.columbia.edu/~jebara/papers/ALT2013FSCVTNM.pdf)\" by Choromanska et el."
   ]
  },
  {
   "cell_type": "code",
   "execution_count": 1,
   "metadata": {
    "collapsed": true
   },
   "outputs": [],
   "source": [
    "import numpy as np\n",
    "import scipy as sp\n",
    "import scipy.sparse.linalg\n",
    "import scipy.cluster.vq"
   ]
  },
  {
   "cell_type": "code",
   "execution_count": 2,
   "metadata": {
    "collapsed": true
   },
   "outputs": [],
   "source": [
    "A = np.loadtxt('../data/processed/usps.csv', delimiter=',')"
   ]
  },
  {
   "cell_type": "code",
   "execution_count": 3,
   "metadata": {
    "collapsed": false
   },
   "outputs": [
    {
     "data": {
      "text/plain": [
       "(2199, 255)"
      ]
     },
     "execution_count": 3,
     "metadata": {},
     "output_type": "execute_result"
    }
   ],
   "source": [
    "inds = A[:, -1] < 3\n",
    "X = A[inds, :-2]\n",
    "Y = A[inds, -1].astype(int)\n",
    "n, d = X.shape\n",
    "n, d"
   ]
  },
  {
   "cell_type": "code",
   "execution_count": 4,
   "metadata": {
    "collapsed": false
   },
   "outputs": [],
   "source": [
    "l = 100\n",
    "inds = np.random.choice(d, l, replace=False)"
   ]
  },
  {
   "cell_type": "code",
   "execution_count": 5,
   "metadata": {
    "collapsed": false
   },
   "outputs": [],
   "source": [
    "W_hat = np.empty((n, l))\n",
    "for i in range(n):\n",
    "    for j in range(l):\n",
    "        val = np.e ** (-1 * np.linalg.norm(X[i] - X[inds[j]]) ** 2)\n",
    "        W_hat[i, j] = val"
   ]
  },
  {
   "cell_type": "code",
   "execution_count": 6,
   "metadata": {
    "collapsed": false
   },
   "outputs": [],
   "source": [
    "D = np.diag(1 / np.sqrt(W_hat.sum(axis=1)))\n",
    "Delta = np.diag(1 / np.sqrt(W_hat.sum(axis=0)))"
   ]
  },
  {
   "cell_type": "code",
   "execution_count": 7,
   "metadata": {
    "collapsed": false
   },
   "outputs": [],
   "source": [
    "C = np.identity(n)[:, inds] - np.sqrt(l / n) * D.dot(W_hat).dot(Delta)"
   ]
  },
  {
   "cell_type": "code",
   "execution_count": 8,
   "metadata": {
    "collapsed": false
   },
   "outputs": [],
   "source": [
    "B = C[inds, :]"
   ]
  },
  {
   "cell_type": "code",
   "execution_count": 9,
   "metadata": {
    "collapsed": false
   },
   "outputs": [],
   "source": [
    "r = l // 2\n",
    "U, s, V = sp.sparse.linalg.svds(B, r)\n",
    "B_r = U.dot(np.diag(s)).dot(V)"
   ]
  },
  {
   "cell_type": "code",
   "execution_count": 10,
   "metadata": {
    "collapsed": false
   },
   "outputs": [],
   "source": [
    "s_Br, U_Br = np.linalg.eigh(B_r)\n",
    "S_Br = np.diag(s_Br)"
   ]
  },
  {
   "cell_type": "code",
   "execution_count": 11,
   "metadata": {
    "collapsed": false
   },
   "outputs": [],
   "source": [
    "S_tilde = (n / l) * S_Br\n",
    "U_tilde = np.sqrt(n / l) * C.dot(U_Br).dot(np.linalg.pinv(S_Br))"
   ]
  },
  {
   "cell_type": "code",
   "execution_count": 12,
   "metadata": {
    "collapsed": false
   },
   "outputs": [],
   "source": [
    "k = 2\n",
    "Z = U_tilde[:, :k]\n",
    "z = np.sqrt((Z ** 2).sum(axis=1))\n",
    "for i in range(n):\n",
    "    if z[i] > 0:\n",
    "        Z[i] /= z[i]"
   ]
  },
  {
   "cell_type": "code",
   "execution_count": 13,
   "metadata": {
    "collapsed": false
   },
   "outputs": [
    {
     "data": {
      "text/plain": [
       "array([[ 0.00325986,  0.98691578],\n",
       "       [-0.26022793, -0.74821877]])"
      ]
     },
     "execution_count": 13,
     "metadata": {},
     "output_type": "execute_result"
    }
   ],
   "source": [
    "centroids, distortion = sp.cluster.vq.kmeans(Z, k)\n",
    "centroids"
   ]
  },
  {
   "cell_type": "code",
   "execution_count": 14,
   "metadata": {
    "collapsed": false
   },
   "outputs": [],
   "source": [
    "y_hat = np.zeros(n, dtype=int)\n",
    "for i in range(n):\n",
    "    dists = np.array([np.linalg.norm(Z[i] - c) for c in centroids])\n",
    "    y_hat[i] = np.argmin(dists) + 1"
   ]
  },
  {
   "cell_type": "code",
   "execution_count": 15,
   "metadata": {
    "collapsed": false
   },
   "outputs": [
    {
     "data": {
      "text/plain": [
       "83.492496589358794"
      ]
     },
     "execution_count": 15,
     "metadata": {},
     "output_type": "execute_result"
    }
   ],
   "source": [
    "accuracy = np.zeros(k)\n",
    "for i in range(k):\n",
    "    y_hat = (y_hat + i) % (k + 1)\n",
    "    y_hat[y_hat == 0] = 1\n",
    "    accuracy[i] = (Y == y_hat).sum() / n * 100\n",
    "accuracy.max()"
   ]
  },
  {
   "cell_type": "code",
   "execution_count": null,
   "metadata": {
    "collapsed": true
   },
   "outputs": [],
   "source": []
  }
 ],
 "metadata": {
  "kernelspec": {
   "display_name": "Python 3",
   "language": "python",
   "name": "python3"
  },
  "language_info": {
   "codemirror_mode": {
    "name": "ipython",
    "version": 3
   },
   "file_extension": ".py",
   "mimetype": "text/x-python",
   "name": "python",
   "nbconvert_exporter": "python",
   "pygments_lexer": "ipython3",
   "version": "3.6.0"
  }
 },
 "nbformat": 4,
 "nbformat_minor": 2
}
