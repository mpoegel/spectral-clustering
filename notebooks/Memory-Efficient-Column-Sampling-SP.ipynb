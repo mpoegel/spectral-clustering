{
 "cells": [
  {
   "cell_type": "code",
   "execution_count": 1,
   "metadata": {
    "collapsed": true
   },
   "outputs": [],
   "source": [
    "from itertools import permutations\n",
    "import numpy as np\n",
    "import scipy as sp\n",
    "import scipy.sparse.linalg\n",
    "import scipy.cluster.vq\n",
    "import time"
   ]
  },
  {
   "cell_type": "code",
   "execution_count": 96,
   "metadata": {
    "collapsed": true
   },
   "outputs": [],
   "source": [
    "k = 2\n",
    "m = 500\n",
    "filename = '../data/raw/mnist'"
   ]
  },
  {
   "cell_type": "code",
   "execution_count": 97,
   "metadata": {
    "collapsed": false,
    "scrolled": true
   },
   "outputs": [
    {
     "name": "stdout",
     "output_type": "stream",
     "text": [
      "12665 780\n"
     ]
    }
   ],
   "source": [
    "n = 0\n",
    "d = 0\n",
    "with open(filename) as fp:\n",
    "    for line in fp:\n",
    "        bits = line.strip().split(' ')\n",
    "        if int(bits[0]) < k:\n",
    "            n += 1\n",
    "        d = max(d, max([int(a.split(':')[0]) for a in bits[1:]]))\n",
    "print(n, d)"
   ]
  },
  {
   "cell_type": "code",
   "execution_count": 98,
   "metadata": {
    "collapsed": true
   },
   "outputs": [],
   "source": [
    "def lineToVector(bits):\n",
    "    i = 0\n",
    "    k = 1\n",
    "    x = np.empty(d)\n",
    "    y = int(bits[0])\n",
    "    while i < d and k < len(bits):\n",
    "        col, val = bits[k].split(':')\n",
    "        if int(col) == i:\n",
    "            x[i] = float(val)\n",
    "            k += 1\n",
    "        else:\n",
    "            x[i] = 0.0\n",
    "        i += 1\n",
    "    while i < d:\n",
    "        x[i] = 0\n",
    "        i += 1\n",
    "    return x, y"
   ]
  },
  {
   "cell_type": "code",
   "execution_count": 99,
   "metadata": {
    "collapsed": false
   },
   "outputs": [],
   "source": [
    "# sample m columns uniformly at random without replacement\n",
    "inds = np.random.choice(n, m, replace=False)\n",
    "Z = np.empty((m, d))\n",
    "Y = np.empty(n, dtype=int)\n",
    "with open(filename) as fp:\n",
    "    r = 0\n",
    "    rr = 0\n",
    "    for line in fp:\n",
    "        bits = line.strip().split(' ')\n",
    "        if int(bits[0]) < k:\n",
    "            if r in inds:\n",
    "                Z[rr], _ = lineToVector(bits)\n",
    "                rr += 1\n",
    "            Y[r] = int(bits[0])\n",
    "            r += 1"
   ]
  },
  {
   "cell_type": "code",
   "execution_count": 100,
   "metadata": {
    "collapsed": false
   },
   "outputs": [],
   "source": [
    "# calculate the gaussian kernel parameter\n",
    "mu = 0\n",
    "for i in range(m):\n",
    "    for j in range(m):\n",
    "        mu += np.linalg.norm(Z[i] - Z[j]) ** 2\n",
    "mu /= (m ** 2)\n",
    "mu = 1 / mu\n",
    "# created a sample of the affinity matrix\n",
    "A_11 = np.empty((m, m))\n",
    "for i in range(m):\n",
    "    for j in range(i, m):\n",
    "        val = np.e ** (-mu * np.linalg.norm(Z[i] - Z[j]) ** 2)\n",
    "        A_11[i, j] = val\n",
    "        A_11[j, i] = val\n",
    "\n",
    "ww = A_11.dot(np.ones(m))\n",
    "D_star = np.diag(ww)\n",
    "D_star_ = np.diag(1 / np.sqrt(ww))\n",
    "M_star = D_star_.dot(A_11).dot(D_star_)\n",
    "# find the eigendecomposition of M_star\n",
    "M_star = sp.cluster.vq.whiten(M_star)\n",
    "Lam, V = sp.sparse.linalg.eigsh(M_star, k=k, which='LM')\n",
    "\n",
    "Lam = np.diag(Lam)\n",
    "B = D_star_.dot(V).dot(np.linalg.inv(Lam))"
   ]
  },
  {
   "cell_type": "code",
   "execution_count": 101,
   "metadata": {
    "collapsed": true
   },
   "outputs": [],
   "source": [
    "# create another affinity matrix row by row\n",
    "Q = np.empty((n, k))\n",
    "with open(filename) as fp:\n",
    "    r = 0\n",
    "    for line in fp:\n",
    "        bits = line.strip().split(' ')\n",
    "        if int(bits[0]) < k:\n",
    "            x, _ = lineToVector(bits)\n",
    "            a = np.array([np.linalg.norm(x - Z[j]) for j in range(m)])\n",
    "            Q[r] = a.dot(B)\n",
    "            r += 1"
   ]
  },
  {
   "cell_type": "code",
   "execution_count": 102,
   "metadata": {
    "collapsed": false
   },
   "outputs": [],
   "source": [
    "dd = Q.dot(Lam).dot(Q.T).dot(np.ones(n))\n",
    "D_hat = np.diag(dd)\n",
    "U = np.diag(1 / np.sqrt(dd)).dot(Q)\n",
    "# orthogonalize U\n",
    "P = U.T.dot(U)\n",
    "Sig, Vp = sp.linalg.eigh(P)\n",
    "Sig_ = np.diag(np.sqrt(Sig))\n",
    "B = Sig_.dot(Vp.T).dot(Lam).dot(Vp).dot(Sig_)\n",
    "Lam_tilde, V_tilde = sp.linalg.eigh(B)\n",
    "U = U.dot(Vp).dot(np.diag(1 / np.sqrt(Sig))).dot(V_tilde)\n",
    "# finally we have U as the approximate eigenvectors which we use to cluster\n",
    "centroids, y_hat = sp.cluster.vq.kmeans2(U, k)"
   ]
  },
  {
   "cell_type": "code",
   "execution_count": 110,
   "metadata": {
    "collapsed": false
   },
   "outputs": [
    {
     "name": "stdout",
     "output_type": "stream",
     "text": [
      "99.3367548362\n"
     ]
    }
   ],
   "source": [
    "accuracy = np.zeros(k)\n",
    "perms = []\n",
    "for p in permutations(np.arange(1, k + 1)):\n",
    "    P = dict()\n",
    "    for i in range(k):\n",
    "        P[i] = p[i]\n",
    "    perms.append(P)\n",
    "accuracy = np.zeros(len(perms))\n",
    "for i in range(len(perms)):\n",
    "    yy = y_hat.copy()\n",
    "    for key, val in perms[i].items():\n",
    "        yy[y_hat == key] = val\n",
    "    accuracy[i] = (Y+1 == yy).sum() / n * 100\n",
    "print(accuracy.max())"
   ]
  },
  {
   "cell_type": "code",
   "execution_count": null,
   "metadata": {
    "collapsed": true
   },
   "outputs": [],
   "source": []
  }
 ],
 "metadata": {
  "kernelspec": {
   "display_name": "Python 3",
   "language": "python",
   "name": "python3"
  },
  "language_info": {
   "codemirror_mode": {
    "name": "ipython",
    "version": 3
   },
   "file_extension": ".py",
   "mimetype": "text/x-python",
   "name": "python",
   "nbconvert_exporter": "python",
   "pygments_lexer": "ipython3",
   "version": "3.6.0"
  }
 },
 "nbformat": 4,
 "nbformat_minor": 2
}
