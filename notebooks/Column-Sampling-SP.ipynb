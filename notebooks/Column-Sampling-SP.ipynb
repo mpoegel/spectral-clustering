{
 "cells": [
  {
   "cell_type": "markdown",
   "metadata": {},
   "source": [
    "# Column Sampling Spectral Clustering"
   ]
  },
  {
   "cell_type": "markdown",
   "metadata": {},
   "source": [
    "This algorithm is from \"Time and Space Effecient Spectral Clustering via Column Sampling\" by Li et al."
   ]
  },
  {
   "cell_type": "code",
   "execution_count": 2,
   "metadata": {
    "collapsed": true
   },
   "outputs": [],
   "source": [
    "import numpy as np\n",
    "import scipy as sp\n",
    "import scipy.sparse.linalg\n",
    "import scipy.cluster.vq"
   ]
  },
  {
   "cell_type": "code",
   "execution_count": 3,
   "metadata": {
    "collapsed": true
   },
   "outputs": [],
   "source": [
    "A = np.loadtxt('../data/processed/usps.csv', delimiter=',')"
   ]
  },
  {
   "cell_type": "code",
   "execution_count": 105,
   "metadata": {
    "collapsed": false
   },
   "outputs": [
    {
     "data": {
      "text/plain": [
       "(3588, 255)"
      ]
     },
     "execution_count": 105,
     "metadata": {},
     "output_type": "execute_result"
    }
   ],
   "source": [
    "inds = A[:, -1] < 5\n",
    "X = A[inds, :-2]\n",
    "Y = A[inds, -1].astype(int)\n",
    "k = len(np.unique(Y))\n",
    "n, d = X.shape\n",
    "n, d"
   ]
  },
  {
   "cell_type": "code",
   "execution_count": 106,
   "metadata": {
    "collapsed": true
   },
   "outputs": [],
   "source": [
    "m = 1000\n",
    "inds = np.random.choice(n, m, replace=False)\n",
    "Z = X[inds, :]"
   ]
  },
  {
   "cell_type": "code",
   "execution_count": 107,
   "metadata": {
    "collapsed": false
   },
   "outputs": [
    {
     "data": {
      "text/plain": [
       "array([  0, 341, 248, 208, 203], dtype=int64)"
      ]
     },
     "execution_count": 107,
     "metadata": {},
     "output_type": "execute_result"
    }
   ],
   "source": [
    "np.bincount(Y[inds])"
   ]
  },
  {
   "cell_type": "code",
   "execution_count": 108,
   "metadata": {
    "collapsed": true
   },
   "outputs": [],
   "source": [
    "mu = 0\n",
    "for i in range(m):\n",
    "    for j in range(m):\n",
    "        mu += np.linalg.norm(Z[i] - Z[j]) ** 2\n",
    "mu /= (m ** 2)\n",
    "mu = 1 / mu"
   ]
  },
  {
   "cell_type": "code",
   "execution_count": 109,
   "metadata": {
    "collapsed": true
   },
   "outputs": [],
   "source": [
    "A_11 = np.empty((m, m))\n",
    "for i in range(m):\n",
    "    for j in range(i, m):\n",
    "        val = np.e ** (-mu * np.linalg.norm(Z[i] - Z[j]) ** 2)\n",
    "        A_11[i, j] = val\n",
    "        A_11[j, i] = val"
   ]
  },
  {
   "cell_type": "code",
   "execution_count": 110,
   "metadata": {
    "collapsed": true
   },
   "outputs": [],
   "source": [
    "D_star = np.diag(A_11.dot(np.ones(m)))"
   ]
  },
  {
   "cell_type": "code",
   "execution_count": 111,
   "metadata": {
    "collapsed": false
   },
   "outputs": [],
   "source": [
    "D_star_ = np.diag(1 / np.sqrt(A_11.dot(np.ones(m))))\n",
    "M_star = D_star_.dot(A_11).dot(D_star_)"
   ]
  },
  {
   "cell_type": "code",
   "execution_count": 112,
   "metadata": {
    "collapsed": false
   },
   "outputs": [],
   "source": [
    "M_star = sp.cluster.vq.whiten(M_star)"
   ]
  },
  {
   "cell_type": "code",
   "execution_count": 113,
   "metadata": {
    "collapsed": false
   },
   "outputs": [],
   "source": [
    "Lam, V = sp.sparse.linalg.eigsh(M_star, k=k, which='LM')"
   ]
  },
  {
   "cell_type": "code",
   "execution_count": 114,
   "metadata": {
    "collapsed": false
   },
   "outputs": [],
   "source": [
    "Lam = np.diag(Lam)\n",
    "B = D_star_.dot(V).dot(np.linalg.inv(Lam))"
   ]
  },
  {
   "cell_type": "code",
   "execution_count": 115,
   "metadata": {
    "collapsed": false
   },
   "outputs": [],
   "source": [
    "Q = np.empty((n,k))\n",
    "for i in range(n):\n",
    "    a = np.array([np.linalg.norm(X[i] - Z[j]) for j in range(m)])\n",
    "    Q[i] = a.dot(B)"
   ]
  },
  {
   "cell_type": "code",
   "execution_count": 116,
   "metadata": {
    "collapsed": false
   },
   "outputs": [],
   "source": [
    "dd = Q.dot(Lam).dot(Q.T).dot(np.ones(n))\n",
    "D_hat = np.diag(dd)\n",
    "U = np.diag(1 / np.sqrt(dd)).dot(Q)"
   ]
  },
  {
   "cell_type": "code",
   "execution_count": 117,
   "metadata": {
    "collapsed": true
   },
   "outputs": [],
   "source": [
    "P = U.T.dot(U)\n",
    "Sig, Vp = sp.linalg.eigh(P)\n",
    "Sig_ = np.diag(np.sqrt(Sig))\n",
    "B = Sig_.dot(Vp.T).dot(Lam).dot(Vp).dot(Sig_)\n",
    "Lam_tilde, V_tilde = sp.linalg.eigh(B)\n",
    "U = U.dot(Vp).dot(np.diag(1 / np.sqrt(Sig))).dot(V_tilde)"
   ]
  },
  {
   "cell_type": "code",
   "execution_count": 118,
   "metadata": {
    "collapsed": false
   },
   "outputs": [
    {
     "data": {
      "text/plain": [
       "array([[ 0.00190233,  0.00979719,  0.02155122,  0.01740117],\n",
       "       [ 0.01470648, -0.01967388, -0.00418508,  0.0167114 ],\n",
       "       [ 0.00487298,  0.01658585, -0.02047612,  0.01583117],\n",
       "       [-0.02335306, -0.0093726 , -0.00321419,  0.0166447 ]])"
      ]
     },
     "execution_count": 118,
     "metadata": {},
     "output_type": "execute_result"
    }
   ],
   "source": [
    "centroids, distortion = sp.cluster.vq.kmeans(U, k)\n",
    "centroids"
   ]
  },
  {
   "cell_type": "code",
   "execution_count": 119,
   "metadata": {
    "collapsed": false
   },
   "outputs": [],
   "source": [
    "y_hat = np.zeros(n, dtype=int)\n",
    "for i in range(n):\n",
    "    dists = np.array([np.linalg.norm(U[i] - centroids[c]) for c in range(k)])\n",
    "    y_hat[i] = np.argmin(dists) + 1"
   ]
  },
  {
   "cell_type": "code",
   "execution_count": 120,
   "metadata": {
    "collapsed": false
   },
   "outputs": [
    {
     "data": {
      "text/plain": [
       "48.996655518394647"
      ]
     },
     "execution_count": 120,
     "metadata": {},
     "output_type": "execute_result"
    }
   ],
   "source": [
    "accuracy = np.zeros(k)\n",
    "for i in range(k):\n",
    "    y_hat = (y_hat + i) % (k + 1)\n",
    "    y_hat[y_hat == 0] = 1\n",
    "    accuracy[i] = (Y == y_hat).sum() / n * 100\n",
    "accuracy.max()"
   ]
  },
  {
   "cell_type": "code",
   "execution_count": null,
   "metadata": {
    "collapsed": true
   },
   "outputs": [],
   "source": []
  }
 ],
 "metadata": {
  "kernelspec": {
   "display_name": "Python 3",
   "language": "python",
   "name": "python3"
  },
  "language_info": {
   "codemirror_mode": {
    "name": "ipython",
    "version": 3
   },
   "file_extension": ".py",
   "mimetype": "text/x-python",
   "name": "python",
   "nbconvert_exporter": "python",
   "pygments_lexer": "ipython3",
   "version": "3.6.0"
  }
 },
 "nbformat": 4,
 "nbformat_minor": 2
}
