{
 "cells": [
  {
   "cell_type": "markdown",
   "metadata": {},
   "source": [
    "# $k$-means-based approximate spectral clustering"
   ]
  },
  {
   "cell_type": "markdown",
   "metadata": {},
   "source": [
    "This algorithm is from \"[Fast Approximate Spectral Clustering](https://people.eecs.berkeley.edu/~jordan/papers/yan-huang-jordan-kdd09.pdf)\" by Yan et el."
   ]
  },
  {
   "cell_type": "code",
   "execution_count": 1,
   "metadata": {
    "collapsed": true
   },
   "outputs": [],
   "source": [
    "import numpy as np\n",
    "import scipy as sp\n",
    "import scipy.sparse.linalg\n",
    "import scipy.cluster.vq"
   ]
  },
  {
   "cell_type": "code",
   "execution_count": 2,
   "metadata": {
    "collapsed": true
   },
   "outputs": [],
   "source": [
    "A = np.loadtxt('../data/processed/usps.csv', delimiter=',')"
   ]
  },
  {
   "cell_type": "code",
   "execution_count": 3,
   "metadata": {
    "collapsed": false
   },
   "outputs": [
    {
     "data": {
      "text/plain": [
       "(2199, 255)"
      ]
     },
     "execution_count": 3,
     "metadata": {},
     "output_type": "execute_result"
    }
   ],
   "source": [
    "inds = A[:, -1] < 3\n",
    "X = A[inds, :-2]\n",
    "Y = A[inds, -1].astype(int)\n",
    "k = len(np.unique(Y))\n",
    "n, d = X.shape\n",
    "n, d"
   ]
  },
  {
   "cell_type": "code",
   "execution_count": 4,
   "metadata": {
    "collapsed": true
   },
   "outputs": [],
   "source": [
    "# data reduction ratio\n",
    "gamma = 2\n",
    "k_prime = n // gamma"
   ]
  },
  {
   "cell_type": "code",
   "execution_count": 51,
   "metadata": {
    "collapsed": false
   },
   "outputs": [
    {
     "data": {
      "text/plain": [
       "1.3720306925894707"
      ]
     },
     "execution_count": 51,
     "metadata": {},
     "output_type": "execute_result"
    }
   ],
   "source": [
    "centroids_prime, distortion_prime = sp.cluster.vq.kmeans(X, k_prime)\n",
    "distortion_prime"
   ]
  },
  {
   "cell_type": "code",
   "execution_count": 52,
   "metadata": {
    "collapsed": false
   },
   "outputs": [],
   "source": [
    "y_prime = np.empty(n)\n",
    "for i in range(n):\n",
    "    dists = np.array([np.linalg.norm(X[i] - c) for c in centroids_prime])\n",
    "    y_prime[i] = np.argmin(dists)"
   ]
  },
  {
   "cell_type": "code",
   "execution_count": 144,
   "metadata": {
    "collapsed": false
   },
   "outputs": [
    {
     "data": {
      "text/plain": [
       "(873, 255)"
      ]
     },
     "execution_count": 144,
     "metadata": {},
     "output_type": "execute_result"
    }
   ],
   "source": [
    "X_prime = centroids_prime\n",
    "n_prime, d_prime = X_prime.shape\n",
    "n_prime, d_prime"
   ]
  },
  {
   "cell_type": "code",
   "execution_count": 174,
   "metadata": {
    "collapsed": true
   },
   "outputs": [],
   "source": [
    "W = np.empty((n_prime, n_prime))\n",
    "for i in range(n_prime):\n",
    "    for j in range(i, n_prime):\n",
    "#         val = np.e ** (-1 * np.linalg.norm(X_prime[i] - X_prime[j]) ** 2)\n",
    "        val = np.linalg.norm(X_prime[i] - X_prime[j]) ** 2\n",
    "        W[i, j] = val\n",
    "        W[j, i] = val"
   ]
  },
  {
   "cell_type": "code",
   "execution_count": 175,
   "metadata": {
    "collapsed": false
   },
   "outputs": [],
   "source": [
    "ww = W.sum(axis=0)\n",
    "D = np.diag(ww)\n",
    "D_ = np.diag(1 / np.sqrt(ww))\n",
    "L = np.identity(n_prime) - D_.dot(W).dot(D_)"
   ]
  },
  {
   "cell_type": "code",
   "execution_count": 187,
   "metadata": {
    "collapsed": false
   },
   "outputs": [],
   "source": [
    "V, Z = sp.linalg.eigh(L, eigvals=(n_prime-2, n_prime-1))"
   ]
  },
  {
   "cell_type": "code",
   "execution_count": 188,
   "metadata": {
    "collapsed": false
   },
   "outputs": [
    {
     "data": {
      "text/plain": [
       "(array([[ 0.04305662, -1.11852681],\n",
       "        [-0.04315428,  0.80547993]]), 0.83118902565668784)"
      ]
     },
     "execution_count": 188,
     "metadata": {},
     "output_type": "execute_result"
    }
   ],
   "source": [
    "Z_ = sp.cluster.vq.whiten(Z)\n",
    "centroids, distortion = sp.cluster.vq.kmeans(Z_, k)\n",
    "centroids, distortion"
   ]
  },
  {
   "cell_type": "code",
   "execution_count": 189,
   "metadata": {
    "collapsed": false
   },
   "outputs": [],
   "source": [
    "y_hat_prime = np.empty(n_prime)\n",
    "for i in range(n_prime):\n",
    "    dists = np.array([np.linalg.norm(Z_[i] - c) for c in centroids])\n",
    "    y_hat_prime[i] = np.argmin(dists)"
   ]
  },
  {
   "cell_type": "code",
   "execution_count": 190,
   "metadata": {
    "collapsed": false
   },
   "outputs": [],
   "source": [
    "y_hat = np.empty(n)\n",
    "for i in range(n):\n",
    "    y_hat[i] = y_hat_prime[ int(y_prime[i]) ] + 1"
   ]
  },
  {
   "cell_type": "code",
   "execution_count": 191,
   "metadata": {
    "collapsed": false
   },
   "outputs": [
    {
     "data": {
      "text/plain": [
       "99.045020463847194"
      ]
     },
     "execution_count": 191,
     "metadata": {},
     "output_type": "execute_result"
    }
   ],
   "source": [
    "accuracy = np.empty(k)\n",
    "for i in range(k):\n",
    "    y_hat = (y_hat + i) % (k + 1)\n",
    "    y_hat[y_hat == 0] = 1\n",
    "    accuracy[i] = (Y == y_hat).sum() / n * 100\n",
    "accuracy.max()"
   ]
  },
  {
   "cell_type": "code",
   "execution_count": null,
   "metadata": {
    "collapsed": true
   },
   "outputs": [],
   "source": []
  }
 ],
 "metadata": {
  "kernelspec": {
   "display_name": "Python 3",
   "language": "python",
   "name": "python3"
  },
  "language_info": {
   "codemirror_mode": {
    "name": "ipython",
    "version": 3
   },
   "file_extension": ".py",
   "mimetype": "text/x-python",
   "name": "python",
   "nbconvert_exporter": "python",
   "pygments_lexer": "ipython3",
   "version": "3.6.0"
  }
 },
 "nbformat": 4,
 "nbformat_minor": 2
}
